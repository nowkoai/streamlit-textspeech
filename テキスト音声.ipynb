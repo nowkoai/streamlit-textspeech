{
 "cells": [
  {
   "cell_type": "code",
   "execution_count": 1,
   "metadata": {},
   "outputs": [],
   "source": [
    "import os"
   ]
  },
  {
   "cell_type": "code",
   "execution_count": 2,
   "metadata": {},
   "outputs": [],
   "source": [
    "os.environ['GOOGLE_APPLICATION_CREDENTIALS'] = 'secret.json'"
   ]
  },
  {
   "cell_type": "code",
   "execution_count": 3,
   "metadata": {},
   "outputs": [
    {
     "name": "stdout",
     "output_type": "stream",
     "text": [
      "GOOGLE_APPLICATION_CREDENTIALS=secret.json\r\n"
     ]
    }
   ],
   "source": [
    "!env |grep GOOGLE"
   ]
  },
  {
   "cell_type": "code",
   "execution_count": 4,
   "metadata": {},
   "outputs": [
    {
     "name": "stdout",
     "output_type": "stream",
     "text": [
      "Collecting google-cloud-texttospeech\n",
      "  Using cached google_cloud_texttospeech-2.3.0-py2.py3-none-any.whl (62 kB)\n",
      "Collecting google-api-core[grpc]<2.0.0dev,>=1.22.2\n",
      "  Downloading google_api_core-1.26.3-py2.py3-none-any.whl (93 kB)\n",
      "\u001b[K     |████████████████████████████████| 93 kB 1.9 MB/s eta 0:00:011\n",
      "\u001b[?25hCollecting proto-plus>=1.4.0\n",
      "  Using cached proto_plus-1.18.1-py3-none-any.whl (42 kB)\n",
      "Collecting googleapis-common-protos<2.0dev,>=1.6.0\n",
      "  Downloading googleapis_common_protos-1.53.0-py2.py3-none-any.whl (198 kB)\n",
      "\u001b[K     |████████████████████████████████| 198 kB 8.8 MB/s eta 0:00:01\n",
      "\u001b[?25hRequirement already satisfied: six>=1.13.0 in /Users/hiroshi/.pyenv/versions/3.7.4/lib/python3.7/site-packages (from google-api-core[grpc]<2.0.0dev,>=1.22.2->google-cloud-texttospeech) (1.15.0)\n",
      "Requirement already satisfied: packaging>=14.3 in /Users/hiroshi/.pyenv/versions/3.7.4/lib/python3.7/site-packages (from google-api-core[grpc]<2.0.0dev,>=1.22.2->google-cloud-texttospeech) (20.4)\n",
      "Requirement already satisfied: requests<3.0.0dev,>=2.18.0 in /Users/hiroshi/.pyenv/versions/3.7.4/lib/python3.7/site-packages (from google-api-core[grpc]<2.0.0dev,>=1.22.2->google-cloud-texttospeech) (2.22.0)\n",
      "Collecting google-auth<2.0dev,>=1.21.1\n",
      "  Downloading google_auth-1.30.0-py2.py3-none-any.whl (146 kB)\n",
      "\u001b[K     |████████████████████████████████| 146 kB 8.6 MB/s eta 0:00:01\n",
      "\u001b[?25hRequirement already satisfied: setuptools>=40.3.0 in /Users/hiroshi/.pyenv/versions/3.7.4/lib/python3.7/site-packages (from google-api-core[grpc]<2.0.0dev,>=1.22.2->google-cloud-texttospeech) (40.8.0)\n",
      "Requirement already satisfied: pytz in /Users/hiroshi/.pyenv/versions/3.7.4/lib/python3.7/site-packages (from google-api-core[grpc]<2.0.0dev,>=1.22.2->google-cloud-texttospeech) (2021.1)\n",
      "Requirement already satisfied: protobuf>=3.12.0 in /Users/hiroshi/.pyenv/versions/3.7.4/lib/python3.7/site-packages (from google-api-core[grpc]<2.0.0dev,>=1.22.2->google-cloud-texttospeech) (3.15.8)\n",
      "Collecting grpcio<2.0dev,>=1.29.0\n",
      "  Using cached grpcio-1.37.1-cp37-cp37m-macosx_10_10_x86_64.whl (3.9 MB)\n",
      "Requirement already satisfied: cachetools<5.0,>=2.0.0 in /Users/hiroshi/.pyenv/versions/3.7.4/lib/python3.7/site-packages (from google-auth<2.0dev,>=1.21.1->google-api-core[grpc]<2.0.0dev,>=1.22.2->google-cloud-texttospeech) (4.2.1)\n",
      "Collecting pyasn1-modules>=0.2.1\n",
      "  Using cached pyasn1_modules-0.2.8-py2.py3-none-any.whl (155 kB)\n",
      "Collecting rsa<5,>=3.1.4\n",
      "  Downloading rsa-4.7.2-py3-none-any.whl (34 kB)\n",
      "Requirement already satisfied: pyparsing>=2.0.2 in /Users/hiroshi/.pyenv/versions/3.7.4/lib/python3.7/site-packages (from packaging>=14.3->google-api-core[grpc]<2.0.0dev,>=1.22.2->google-cloud-texttospeech) (2.4.7)\n",
      "Collecting pyasn1<0.5.0,>=0.4.6\n",
      "  Using cached pyasn1-0.4.8-py2.py3-none-any.whl (77 kB)\n",
      "Requirement already satisfied: certifi>=2017.4.17 in /Users/hiroshi/.pyenv/versions/3.7.4/lib/python3.7/site-packages (from requests<3.0.0dev,>=2.18.0->google-api-core[grpc]<2.0.0dev,>=1.22.2->google-cloud-texttospeech) (2019.11.28)\n",
      "Requirement already satisfied: idna<2.9,>=2.5 in /Users/hiroshi/.pyenv/versions/3.7.4/lib/python3.7/site-packages (from requests<3.0.0dev,>=2.18.0->google-api-core[grpc]<2.0.0dev,>=1.22.2->google-cloud-texttospeech) (2.8)\n",
      "Requirement already satisfied: chardet<3.1.0,>=3.0.2 in /Users/hiroshi/.pyenv/versions/3.7.4/lib/python3.7/site-packages (from requests<3.0.0dev,>=2.18.0->google-api-core[grpc]<2.0.0dev,>=1.22.2->google-cloud-texttospeech) (3.0.4)\n",
      "Requirement already satisfied: urllib3!=1.25.0,!=1.25.1,<1.26,>=1.21.1 in /Users/hiroshi/.pyenv/versions/3.7.4/lib/python3.7/site-packages (from requests<3.0.0dev,>=2.18.0->google-api-core[grpc]<2.0.0dev,>=1.22.2->google-cloud-texttospeech) (1.25.8)\n",
      "Installing collected packages: pyasn1, rsa, pyasn1-modules, googleapis-common-protos, google-auth, grpcio, google-api-core, proto-plus, google-cloud-texttospeech\n",
      "Successfully installed google-api-core-1.26.3 google-auth-1.30.0 google-cloud-texttospeech-2.3.0 googleapis-common-protos-1.53.0 grpcio-1.37.1 proto-plus-1.18.1 pyasn1-0.4.8 pyasn1-modules-0.2.8 rsa-4.7.2\n"
     ]
    }
   ],
   "source": [
    "!pip install --upgrade google-cloud-texttospeech"
   ]
  },
  {
   "cell_type": "code",
   "execution_count": null,
   "metadata": {},
   "outputs": [],
   "source": [
    "from google.cloud import texttospeech\n",
    "\n",
    "client = texttospeech.TextToSpeechClient()\n",
    "\n",
    "synthesis_input = texttospeech.SynthesisInput(text=\"こんにちは、山下です\")\n",
    "\n",
    "voice = texttospeech.VoiceSelectionParams(\n",
    "    language_code=\"ja-JP\", ssml_gender=texttospeech.SsmlVoiceGender.MALE\n",
    ")\n",
    "\n",
    "audio_config = texttospeech.AudioConfig(\n",
    "    audio_encoding=texttospeech.AudioEncoding.MP3\n",
    ")\n",
    "\n",
    "response = client.synthesize_speech(\n",
    "    input=synthesis_input, voice=voice, audio_config=audio_config\n",
    ")\n",
    "\n",
    "# filename = \"output.mp3\"\n",
    "# with open(filename, \"wb\") as out:\n",
    "#     out.write(response.audio_content)\n",
    "#     print(f'音声データは{filename}ファイルに書き出しました\"')"
   ]
  },
  {
   "cell_type": "code",
   "execution_count": 13,
   "metadata": {},
   "outputs": [
    {
     "data": {
      "text/html": [
       "\n",
       "                <audio controls=\"controls\" >\n",
       "                    <source src=\"data:audio/wav;base64,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\" type=\"audio/wav\" />\n",
       "                    Your browser does not support the audio element.\n",
       "                </audio>\n",
       "              "
      ],
      "text/plain": [
       "<IPython.lib.display.Audio object>"
      ]
     },
     "execution_count": 13,
     "metadata": {},
     "output_type": "execute_result"
    }
   ],
   "source": [
    "from IPython.display import Audio\n",
    "Audio(response.audio_content)"
   ]
  },
  {
   "cell_type": "code",
   "execution_count": 9,
   "metadata": {},
   "outputs": [],
   "source": [
    "from google.cloud import texttospeech"
   ]
  },
  {
   "cell_type": "code",
   "execution_count": 14,
   "metadata": {},
   "outputs": [],
   "source": [
    "def synthesize_speech(text, lang='日本語', gender='default'):\n",
    "    gender_type = {\n",
    "        'default': texttospeech.SsmlVoiceGender.SSML_VOICE_GENDER_UNSPECIFIED,\n",
    "        'male': texttospeech.SsmlVoiceGender.MALE,\n",
    "        'female': texttospeech.SsmlVoiceGender.FEMALE,\n",
    "        'neutral': texttospeech.SsmlVoiceGender.NEUTRAL,\n",
    "    }\n",
    "\n",
    "    lang_code = {\n",
    "        '英語': 'en-US',\n",
    "        '日本語': 'ja-JP'\n",
    "    }\n",
    "\n",
    "    client = texttospeech.TextToSpeechClient()\n",
    "\n",
    "    synthesis_input = texttospeech.SynthesisInput(text=text)\n",
    "#     synthesis_input = texttospeech.SynthesisInput(ssml=text)\n",
    "    \n",
    "    voice = texttospeech.VoiceSelectionParams(\n",
    "        language_code=lang_code[lang], ssml_gender=gender_type[gender]\n",
    "    )\n",
    "\n",
    "    audio_config = texttospeech.AudioConfig(\n",
    "        audio_encoding=texttospeech.AudioEncoding.MP3\n",
    "    )\n",
    "\n",
    "    response = client.synthesize_speech(\n",
    "        input=synthesis_input, voice=voice, audio_config=audio_config\n",
    "    )\n",
    "    \n",
    "    return response"
   ]
  },
  {
   "cell_type": "code",
   "execution_count": 12,
   "metadata": {},
   "outputs": [
    {
     "data": {
      "text/html": [
       "\n",
       "                <audio controls=\"controls\" >\n",
       "                    <source src=\"data:audio/wav;base64,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\" type=\"audio/wav\" />\n",
       "                    Your browser does not support the audio element.\n",
       "                </audio>\n",
       "              "
      ],
      "text/plain": [
       "<IPython.lib.display.Audio object>"
      ]
     },
     "execution_count": 12,
     "metadata": {},
     "output_type": "execute_result"
    }
   ],
   "source": [
    "    lang = '英語'\n",
    "    gender = 'default'\n",
    "    text = \"This is a sample\"\n",
    "    \n",
    "    response = synthesize_speech(text, lang, gender='male')\n",
    "    Audio(response.audio_content)"
   ]
  },
  {
   "cell_type": "code",
   "execution_count": null,
   "metadata": {},
   "outputs": [],
   "source": []
  },
  {
   "cell_type": "code",
   "execution_count": null,
   "metadata": {},
   "outputs": [],
   "source": []
  }
 ],
 "metadata": {
  "kernelspec": {
   "display_name": "Python 3",
   "language": "python",
   "name": "python3"
  },
  "language_info": {
   "codemirror_mode": {
    "name": "ipython",
    "version": 3
   },
   "file_extension": ".py",
   "mimetype": "text/x-python",
   "name": "python",
   "nbconvert_exporter": "python",
   "pygments_lexer": "ipython3",
   "version": "3.7.4"
  }
 },
 "nbformat": 4,
 "nbformat_minor": 2
}
