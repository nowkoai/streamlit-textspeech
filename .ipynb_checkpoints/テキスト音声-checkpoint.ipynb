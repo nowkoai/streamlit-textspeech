{
 "cells": [
  {
   "cell_type": "code",
   "execution_count": 1,
   "metadata": {},
   "outputs": [],
   "source": [
    "import os"
   ]
  },
  {
   "cell_type": "code",
   "execution_count": 2,
   "metadata": {},
   "outputs": [],
   "source": [
    "os.environ['GOOGLE_APPLICATION_CREDENTIALS'] = 'secret.json'"
   ]
  },
  {
   "cell_type": "code",
   "execution_count": 3,
   "metadata": {},
   "outputs": [
    {
     "name": "stdout",
     "output_type": "stream",
     "text": [
      "GOOGLE_APPLICATION_CREDENTIALS=secret.json\r\n"
     ]
    }
   ],
   "source": [
    "!env |grep GOOGLE"
   ]
  },
  {
   "cell_type": "code",
   "execution_count": 4,
   "metadata": {
    "collapsed": true
   },
   "outputs": [
    {
     "name": "stdout",
     "output_type": "stream",
     "text": [
      "Requirement already satisfied: google-cloud-texttospeech in /Users/hiroshi/.pyenv/versions/anaconda3-2019.03/lib/python3.7/site-packages (2.3.0)\n",
      "Requirement already satisfied: google-api-core[grpc]<2.0.0dev,>=1.22.2 in /Users/hiroshi/.pyenv/versions/anaconda3-2019.03/lib/python3.7/site-packages (from google-cloud-texttospeech) (1.24.1)\n",
      "Requirement already satisfied: proto-plus>=1.4.0 in /Users/hiroshi/.pyenv/versions/anaconda3-2019.03/lib/python3.7/site-packages (from google-cloud-texttospeech) (1.18.1)\n",
      "Requirement already satisfied: google-auth<2.0dev,>=1.21.1 in /Users/hiroshi/.pyenv/versions/anaconda3-2019.03/lib/python3.7/site-packages (from google-api-core[grpc]<2.0.0dev,>=1.22.2->google-cloud-texttospeech) (1.24.0)\n",
      "Requirement already satisfied: googleapis-common-protos<2.0dev,>=1.6.0 in /Users/hiroshi/.pyenv/versions/anaconda3-2019.03/lib/python3.7/site-packages (from google-api-core[grpc]<2.0.0dev,>=1.22.2->google-cloud-texttospeech) (1.52.0)\n",
      "Requirement already satisfied: pytz in /Users/hiroshi/.pyenv/versions/anaconda3-2019.03/lib/python3.7/site-packages (from google-api-core[grpc]<2.0.0dev,>=1.22.2->google-cloud-texttospeech) (2015.7)\n",
      "Requirement already satisfied: requests<3.0.0dev,>=2.18.0 in /Users/hiroshi/.pyenv/versions/anaconda3-2019.03/lib/python3.7/site-packages (from google-api-core[grpc]<2.0.0dev,>=1.22.2->google-cloud-texttospeech) (2.25.1)\n",
      "Requirement already satisfied: six>=1.13.0 in /Users/hiroshi/.pyenv/versions/anaconda3-2019.03/lib/python3.7/site-packages (from google-api-core[grpc]<2.0.0dev,>=1.22.2->google-cloud-texttospeech) (1.15.0)\n",
      "Requirement already satisfied: setuptools>=34.0.0 in /Users/hiroshi/.pyenv/versions/anaconda3-2019.03/lib/python3.7/site-packages (from google-api-core[grpc]<2.0.0dev,>=1.22.2->google-cloud-texttospeech) (41.4.0)\n",
      "Requirement already satisfied: protobuf>=3.12.0 in /Users/hiroshi/.pyenv/versions/anaconda3-2019.03/lib/python3.7/site-packages (from google-api-core[grpc]<2.0.0dev,>=1.22.2->google-cloud-texttospeech) (3.14.0)\n",
      "Requirement already satisfied: grpcio<2.0dev,>=1.29.0 in /Users/hiroshi/.pyenv/versions/anaconda3-2019.03/lib/python3.7/site-packages (from google-api-core[grpc]<2.0.0dev,>=1.22.2->google-cloud-texttospeech) (1.37.1)\n",
      "Requirement already satisfied: cachetools<5.0,>=2.0.0 in /Users/hiroshi/.pyenv/versions/anaconda3-2019.03/lib/python3.7/site-packages (from google-auth<2.0dev,>=1.21.1->google-api-core[grpc]<2.0.0dev,>=1.22.2->google-cloud-texttospeech) (4.1.0)\n",
      "Requirement already satisfied: rsa<5,>=3.1.4 in /Users/hiroshi/.pyenv/versions/anaconda3-2019.03/lib/python3.7/site-packages (from google-auth<2.0dev,>=1.21.1->google-api-core[grpc]<2.0.0dev,>=1.22.2->google-cloud-texttospeech) (3.4.2)\n",
      "Requirement already satisfied: pyasn1-modules>=0.2.1 in /Users/hiroshi/.pyenv/versions/anaconda3-2019.03/lib/python3.7/site-packages (from google-auth<2.0dev,>=1.21.1->google-api-core[grpc]<2.0.0dev,>=1.22.2->google-cloud-texttospeech) (0.2.8)\n",
      "Requirement already satisfied: pyasn1<0.5.0,>=0.4.6 in /Users/hiroshi/.pyenv/versions/anaconda3-2019.03/lib/python3.7/site-packages (from pyasn1-modules>=0.2.1->google-auth<2.0dev,>=1.21.1->google-api-core[grpc]<2.0.0dev,>=1.22.2->google-cloud-texttospeech) (0.4.8)\n",
      "Requirement already satisfied: urllib3<1.27,>=1.21.1 in /Users/hiroshi/.pyenv/versions/anaconda3-2019.03/lib/python3.7/site-packages (from requests<3.0.0dev,>=2.18.0->google-api-core[grpc]<2.0.0dev,>=1.22.2->google-cloud-texttospeech) (1.25.11)\n",
      "Requirement already satisfied: certifi>=2017.4.17 in /Users/hiroshi/.pyenv/versions/anaconda3-2019.03/lib/python3.7/site-packages (from requests<3.0.0dev,>=2.18.0->google-api-core[grpc]<2.0.0dev,>=1.22.2->google-cloud-texttospeech) (2019.3.9)\n",
      "Requirement already satisfied: chardet<5,>=3.0.2 in /Users/hiroshi/.pyenv/versions/anaconda3-2019.03/lib/python3.7/site-packages (from requests<3.0.0dev,>=2.18.0->google-api-core[grpc]<2.0.0dev,>=1.22.2->google-cloud-texttospeech) (3.0.4)\n",
      "Requirement already satisfied: idna<3,>=2.5 in /Users/hiroshi/.pyenv/versions/anaconda3-2019.03/lib/python3.7/site-packages (from requests<3.0.0dev,>=2.18.0->google-api-core[grpc]<2.0.0dev,>=1.22.2->google-cloud-texttospeech) (2.8)\n"
     ]
    }
   ],
   "source": [
    "!pip install --upgrade google-cloud-texttospeech"
   ]
  },
  {
   "cell_type": "code",
   "execution_count": 11,
   "metadata": {},
   "outputs": [],
   "source": [
    "from google.cloud import texttospeech\n",
    "\n",
    "client = texttospeech.TextToSpeechClient()\n",
    "\n",
    "synthesis_input = texttospeech.SynthesisInput(text=\"こんにちは、山下です\")\n",
    "\n",
    "voice = texttospeech.VoiceSelectionParams(\n",
    "    language_code=\"ja-JP\", ssml_gender=texttospeech.SsmlVoiceGender.MALE\n",
    ")\n",
    "\n",
    "audio_config = texttospeech.AudioConfig(\n",
    "    audio_encoding=texttospeech.AudioEncoding.MP3\n",
    ")\n",
    "\n",
    "response = client.synthesize_speech(\n",
    "    input=synthesis_input, voice=voice, audio_config=audio_config\n",
    ")\n",
    "\n",
    "# filename = \"output.mp3\"\n",
    "# with open(filename, \"wb\") as out:\n",
    "#     out.write(response.audio_content)\n",
    "#     print(f'音声データは{filename}ファイルに書き出しました\"')"
   ]
  },
  {
   "cell_type": "code",
   "execution_count": 12,
   "metadata": {},
   "outputs": [
    {
     "data": {
      "text/html": [
       "\n",
       "                <audio controls=\"controls\" >\n",
       "                    <source src=\"data:audio/wav;base64,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\" type=\"audio/wav\" />\n",
       "                    Your browser does not support the audio element.\n",
       "                </audio>\n",
       "              "
      ],
      "text/plain": [
       "<IPython.lib.display.Audio object>"
      ]
     },
     "execution_count": 12,
     "metadata": {},
     "output_type": "execute_result"
    }
   ],
   "source": [
    "from IPython.display import Audio\n",
    "Audio(response.audio_content)"
   ]
  },
  {
   "cell_type": "code",
   "execution_count": 15,
   "metadata": {},
   "outputs": [],
   "source": [
    "from google.cloud import texttospeech"
   ]
  },
  {
   "cell_type": "code",
   "execution_count": 19,
   "metadata": {},
   "outputs": [
    {
     "data": {
      "text/html": [
       "\n",
       "                <audio controls=\"controls\" >\n",
       "                    <source src=\"data:audio/wav;base64,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\" type=\"audio/wav\" />\n",
       "                    Your browser does not support the audio element.\n",
       "                </audio>\n",
       "              "
      ],
      "text/plain": [
       "<IPython.lib.display.Audio object>"
      ]
     },
     "execution_count": 19,
     "metadata": {},
     "output_type": "execute_result"
    }
   ],
   "source": [
    "gender_type = {\n",
    "    'default': texttospeech.SsmlVoiceGender.SSML_VOICE_GENDER_UNSPECIFIED,\n",
    "    'male': texttospeech.SsmlVoiceGender.MALE,\n",
    "    'female': texttospeech.SsmlVoiceGender.FEMALE,\n",
    "    'neutral': texttospeech.SsmlVoiceGender.NEUTRAL,\n",
    "}\n",
    "\n",
    "lang_code = {\n",
    "    '英語': 'en-US',\n",
    "    '日本語': 'ja-JP'\n",
    "}\n",
    "\n",
    "lang = '日本語'\n",
    "gender = 'default'\n",
    "text = \"こんにちは、山下です\"\n",
    "\n",
    "client = texttospeech.TextToSpeechClient()\n",
    "\n",
    "synthesis_input = texttospeech.SynthesisInput(text=text)\n",
    "\n",
    "voice = texttospeech.VoiceSelectionParams(\n",
    "    language_code=lang_code[lang], ssml_gender=gender_type[gender]\n",
    ")\n",
    "\n",
    "audio_config = texttospeech.AudioConfig(\n",
    "    audio_encoding=texttospeech.AudioEncoding.MP3\n",
    ")\n",
    "\n",
    "response = client.synthesize_speech(\n",
    "    input=synthesis_input, voice=voice, audio_config=audio_config\n",
    ")\n",
    "\n",
    "Audio(response.audio_content)"
   ]
  },
  {
   "cell_type": "code",
   "execution_count": null,
   "metadata": {},
   "outputs": [],
   "source": []
  }
 ],
 "metadata": {
  "kernelspec": {
   "display_name": "Python 3",
   "language": "python",
   "name": "python3"
  },
  "language_info": {
   "codemirror_mode": {
    "name": "ipython",
    "version": 3
   },
   "file_extension": ".py",
   "mimetype": "text/x-python",
   "name": "python",
   "nbconvert_exporter": "python",
   "pygments_lexer": "ipython3",
   "version": "3.7.3"
  }
 },
 "nbformat": 4,
 "nbformat_minor": 2
}
